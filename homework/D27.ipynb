{
 "cells": [
  {
   "cell_type": "code",
   "execution_count": 89,
   "metadata": {},
   "outputs": [
    {
     "name": "stdout",
     "output_type": "stream",
     "text": [
      "[0 1 0 0 0 1 1 1 1 0 0 1 1 0 1 1 0 0 1 0 1 1 0 0 0 0 0 1 1 0 0 1 1 1 1 0 0\n",
      " 1 0 1 0 1 1 0 0 0 0 1 1 1 1 0 0 1 0 1 1 0 0 1 0 0 0 1 1 1 0 0 1 1 0 0 1 0\n",
      " 0 0 0 0 0 0 1 1 0 1 1 0 1 1 1 0 1 0 1 1 0 0 0 0 1 1]\n"
     ]
    },
    {
     "data": {
      "image/png": "[encoded data removed]",
      "text/plain": [
       "<Figure size 432x288 with 1 Axes>"
      ]
     },
     "metadata": {
      "needs_background": "light"
     },
     "output_type": "display_data"
    },
    {
     "name": "stdout",
     "output_type": "stream",
     "text": [
      "\n"
     ]
    }
   ],
   "source": [
    "import matplotlib.pyplot as plt\n",
    "import numpy as np\n",
    "import pandas as pd\n",
    "from scipy import stats\n",
    "import math\n",
    "import statistics\n",
    "\n",
    "\n",
    "#伯努利分配( Bernoulli Distribution )\n",
    "p= 0.5\n",
    "r= np.arange(0,2)\n",
    "X = stats.bernoulli.rvs(p,size=100)\n",
    "print(X)\n",
    "plt.hist(X)\n",
    "plt.show()\n",
    "print(\"不管設定正面是0或1，不太可能出現剛好50次\")\n"
   ]
  },
  {
   "cell_type": "code",
   "execution_count": null,
   "metadata": {},
   "outputs": [],
   "source": []
  },
  {
   "cell_type": "code",
   "execution_count": null,
   "metadata": {},
   "outputs": [],
   "source": []
  }
 ],
 "metadata": {
  "kernelspec": {
   "display_name": "Python 3",
   "language": "python",
   "name": "python3"
  },
  "language_info": {
   "codemirror_mode": {
    "name": "ipython",
    "version": 3
   },
   "file_extension": ".py",
   "mimetype": "text/x-python",
   "name": "python",
   "nbconvert_exporter": "python",
   "pygments_lexer": "ipython3",
   "version": "3.7.6"
  }
 },
 "nbformat": 4,
 "nbformat_minor": 4
}
