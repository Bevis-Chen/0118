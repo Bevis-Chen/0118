{
 "cells": [
  {
   "cell_type": "code",
   "execution_count": 9,
   "metadata": {},
   "outputs": [
    {
     "name": "stdout",
     "output_type": "stream",
     "text": [
      "小於1的機率 0.8413447460685429\n",
      "大於1小於-1的機率 0.31731050786291415\n",
      "X~N(2,4)，小於 3 的機率 0.5249176690292472\n"
     ]
    }
   ],
   "source": [
    "import matplotlib.pyplot as plt\n",
    "import numpy as np\n",
    "import pandas as pd\n",
    "from scipy import stats\n",
    "import math\n",
    "import statistics\n",
    "import seaborn as sns\n",
    "mu=0\n",
    "sigma=1\n",
    "\n",
    "a= stats.norm.cdf(1,mu, sigma)\n",
    "print(\"小於1的機率\",a)\n",
    "b= stats.norm.cdf(-1,mu, sigma)\n",
    "print( \"大於1小於-1的機率\" ,  1-(a-b))\n",
    "\n",
    "mu1= 2\n",
    "sigma1= 16\n",
    "c= stats.norm.cdf(3,mu1, sigma1)\n",
    "print(\"X~N(2,4)，小於 3 的機率\",c)\n",
    "\n",
    "\n"
   ]
  },
  {
   "cell_type": "code",
   "execution_count": null,
   "metadata": {},
   "outputs": [],
   "source": []
  }
 ],
 "metadata": {
  "kernelspec": {
   "display_name": "Python 3",
   "language": "python",
   "name": "python3"
  },
  "language_info": {
   "codemirror_mode": {
    "name": "ipython",
    "version": 3
   },
   "file_extension": ".py",
   "mimetype": "text/x-python",
   "name": "python",
   "nbconvert_exporter": "python",
   "pygments_lexer": "ipython3",
   "version": "3.7.6"
  }
 },
 "nbformat": 4,
 "nbformat_minor": 4
}
