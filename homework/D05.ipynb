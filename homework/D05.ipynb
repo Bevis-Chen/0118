{
 "cells": [
  {
   "cell_type": "code",
   "execution_count": 14,
   "metadata": {},
   "outputs": [
    {
     "name": "stdout",
     "output_type": "stream",
     "text": [
      "1. \n",
      "英文平均是 67.16666666666667\n",
      "英文最大值是 89\n",
      "英文最小值是 48\n",
      "英文標準差是 13.433995020924426\n",
      "\n",
      "數學平均是 66.6\n",
      "數學最大值是 85.0\n",
      "數學最小值是 60.0\n",
      "數學標準差是 9.707728879609279\n",
      "\n",
      "國文平均是 75.33333333333333\n",
      "國文最大值是 90\n",
      "國文最小值是 65\n",
      "國文標準差是 8.825468196582484\n",
      "\n",
      "2.\n",
      "數學平均是 64.66666666666667\n",
      "數學最大值是 85\n",
      "數學最小值是 55\n",
      "數學標準差是 9.860132971832694\n"
     ]
    }
   ],
   "source": [
    "import numpy as np\n",
    "\n",
    "english_score= np.array([55,89,76,65,48,70])\n",
    "math_score=    np.array([60,85,60,68,np.nan,60])\n",
    "chinese_score= np.array([65,90,82,72,66,77])\n",
    "\n",
    "#1\n",
    "print(\"1. \")\n",
    "print(\"英文平均是\",np.mean(english_score))\n",
    "print(\"英文最大值是\",np.nanmax(english_score))\n",
    "print(\"英文最小值是\",np.nanmin(english_score))\n",
    "print(\"英文標準差是\",np.std(english_score))\n",
    "print()\n",
    "print(\"數學平均是\",np.nanmean(math_score))\n",
    "print(\"數學最大值是\",np.nanmax(math_score))\n",
    "print(\"數學最小值是\",np.nanmin(math_score))\n",
    "print(\"數學標準差是\",np.nanstd(math_score))\n",
    "print()\n",
    "print(\"國文平均是\",np.mean(chinese_score))\n",
    "print(\"國文最大值是\",np.nanmax(chinese_score))\n",
    "print(\"國文最小值是\",np.nanmin(chinese_score))\n",
    "print(\"國文標準差是\",np.std(chinese_score))\n",
    "print()\n",
    "#2\n",
    "print(\"2.\")\n",
    "math_score=    np.array([60,85,60,68,55,60])\n",
    "print(\"數學平均是\",np.mean(math_score))\n",
    "print(\"數學最大值是\",np.nanmax(math_score))\n",
    "print(\"數學最小值是\",np.nanmin(math_score))\n",
    "print(\"數學標準差是\",np.std(math_score))\n"
   ]
  },
  {
   "cell_type": "code",
   "execution_count": 49,
   "metadata": {},
   "outputs": [
    {
     "name": "stdout",
     "output_type": "stream",
     "text": [
      "英文與國文相關係數最高\n"
     ]
    }
   ],
   "source": [
    "a= np.corrcoef(chinese_score, math_score)\n",
    "b= np.corrcoef(chinese_score, english_score)\n",
    "if np.all([np.greater(a,b)]):\n",
    "    print(\"數學與國文相關係數最高\")\n",
    "else:\n",
    "    print(\"英文與國文相關係數最高\")"
   ]
  },
  {
   "cell_type": "code",
   "execution_count": null,
   "metadata": {},
   "outputs": [],
   "source": []
  }
 ],
 "metadata": {
  "kernelspec": {
   "display_name": "Python 3",
   "language": "python",
   "name": "python3"
  },
  "language_info": {
   "codemirror_mode": {
    "name": "ipython",
    "version": 3
   },
   "file_extension": ".py",
   "mimetype": "text/x-python",
   "name": "python",
   "nbconvert_exporter": "python",
   "pygments_lexer": "ipython3",
   "version": "3.7.6"
  }
 },
 "nbformat": 4,
 "nbformat_minor": 4
}
