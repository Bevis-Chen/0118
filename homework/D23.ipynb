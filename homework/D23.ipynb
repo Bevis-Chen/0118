{
 "cells": [
  {
   "cell_type": "code",
   "execution_count": 55,
   "metadata": {},
   "outputs": [
    {
     "name": "stdout",
     "output_type": "stream",
     "text": [
      "Using data directory: C:\\Users\\bevis.chen\\.bokeh\\data\n",
      "Skipping 'CGM.csv' (checksum match)\n",
      "Skipping 'US_Counties.zip' (checksum match)\n",
      "Skipping 'us_cities.json' (checksum match)\n",
      "Skipping 'unemployment09.csv' (checksum match)\n",
      "Skipping 'AAPL.csv' (checksum match)\n",
      "Skipping 'FB.csv' (checksum match)\n",
      "Skipping 'GOOG.csv' (checksum match)\n",
      "Skipping 'IBM.csv' (checksum match)\n",
      "Skipping 'MSFT.csv' (checksum match)\n",
      "Skipping 'WPP2012_SA_DB03_POPULATION_QUINQUENNIAL.zip' (checksum match)\n",
      "Skipping 'gapminder_fertility.csv' (checksum match)\n",
      "Skipping 'gapminder_population.csv' (checksum match)\n",
      "Skipping 'gapminder_life_expectancy.csv' (checksum match)\n",
      "Skipping 'gapminder_regions.csv' (checksum match)\n",
      "Skipping 'world_cities.zip' (checksum match)\n",
      "Skipping 'airports.json' (checksum match)\n",
      "Skipping 'movies.db.zip' (checksum match)\n",
      "Skipping 'airports.csv' (checksum match)\n",
      "Skipping 'routes.csv' (checksum match)\n",
      "Skipping 'haarcascade_frontalface_default.xml' (checksum match)\n"
     ]
    }
   ],
   "source": [
    "import bokeh.sampledata\n",
    "bokeh.sampledata.download()"
   ]
  },
  {
   "cell_type": "code",
   "execution_count": 56,
   "metadata": {},
   "outputs": [],
   "source": [
    "from bokeh.io import output_file, show\n",
    "from bokeh.models import ColumnDataSource\n",
    "from bokeh.palettes import Spectral6\n",
    "from bokeh.plotting import figure\n",
    "from bokeh.transform import factor_cmap\n",
    "from bokeh.models import (BoxSelectTool, Circle, EdgesAndLinkedNodes, HoverTool,MultiLine, NodesAndLinkedEdges, Plot, Range1d, TapTool,)\n",
    "import pandas as pd\n",
    "\n",
    "output_file(\"bar_colormapped.html\")\n",
    "fruits = ['Apples', 'Pears', 'Nectarines', 'Plums', 'Grapes', 'Strawberries']\n",
    "counts = [5, 3, 4, 2, 4, 6]\n",
    "data=dict(fruits=fruits, counts=counts)\n",
    "source = ColumnDataSource(data)\n",
    "hover = HoverTool(tooltips =[(\"fruits\",\"@fruits\"),(\"counts\",\"@counts\")])\n",
    "p = figure(x_range=fruits, plot_height=350, toolbar_location=None, title=\"Fruit Counts\",tools=[hover])\n",
    "\n",
    "\n",
    "#p.title.text = 'Click on legend entries to hide the corresponding lines'\n",
    "\n",
    "p.vbar(x='fruits',top='counts', width=0.9, source=source, legend_field=\"fruits\",line_color='white'\n",
    "             , fill_color=factor_cmap('fruits', palette=Spectral6, factors=fruits), alpha=0.8)\n",
    "\n",
    "    \n",
    "p.xgrid.grid_line_color = None\n",
    "p.y_range.start = 0\n",
    "p.y_range.end = 9\n",
    "p.legend.orientation = \"horizontal\"\n",
    "p.legend.location = \"top_left\"\n",
    "p.legend.click_policy=\"hide\"\n",
    "show(p)\n",
    "\n"
   ]
  },
  {
   "cell_type": "code",
   "execution_count": 44,
   "metadata": {},
   "outputs": [],
   "source": [
    "for i in zip([5, 3, 4, 2, 4, 6],['Apples', 'Pears', 'Nectarines', 'Plums', 'Grapes', 'Strawberries'], Spectral6):\n",
    "    df = pd.DataFrame(i)\n",
    "    df['fruits'] = pd.to_fruits(df['fruits'])hide_fig = figure(**data)\n",
    "hide_fig.vbar(**data)\n",
    "mute_fig = figure(**data)\n",
    "mute_fig.circle(**data,muted_alpha=0.1)\n",
    "hide_fig.legend.click_policy = 'hide'\n",
    "\n",
    "mute_fig.legend.click_policy = 'mute'\n",
    "\n",
    "# Visualize       show(row(hide_fig, mute_fig))\n"
   ]
  },
  {
   "cell_type": "code",
   "execution_count": null,
   "metadata": {},
   "outputs": [],
   "source": []
  }
 ],
 "metadata": {
  "kernelspec": {
   "display_name": "Python 3",
   "language": "python",
   "name": "python3"
  },
  "language_info": {
   "codemirror_mode": {
    "name": "ipython",
    "version": 3
   },
   "file_extension": ".py",
   "mimetype": "text/x-python",
   "name": "python",
   "nbconvert_exporter": "python",
   "pygments_lexer": "ipython3",
   "version": "3.7.6"
  }
 },
 "nbformat": 4,
 "nbformat_minor": 4
}
