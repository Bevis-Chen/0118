{
 "cells": [
  {
   "cell_type": "code",
   "execution_count": 71,
   "metadata": {},
   "outputs": [
    {
     "name": "stdout",
     "output_type": "stream",
     "text": [
      "6號學生3科平均分數 43.75\n",
      "6號學生平均沒有超過班上一半\n",
      "加分後，6號學生數學成績 77.45966692414834 \n",
      "            英文成績 73.48469228349535 \n",
      "            國文成績 74.16198487095663\n",
      "加分後，班平均數學成績 74.1942207648474 \n",
      "           英文成績 78.35030113852697 \n",
      "           國文成績 78.73992805288852\n"
     ]
    }
   ],
   "source": [
    "import pandas as pd\n",
    "from collections import Counter\n",
    "score_df = pd.DataFrame([[1,56,66,70],\n",
    "                         [2,90,45,34],\n",
    "                         [3,45,32,55],\n",
    "                         [4,70,77,89],\n",
    "                         [5,56,80,70],\n",
    "                         [6,60,54,55],\n",
    "                         [7,45,70,79],\n",
    "                         [8,34,77,76],\n",
    "                         [9,25,87,60],\n",
    "                         [10,88,40,43]],\n",
    "                        columns=['student_id','math_score','english_score','chinese_score'])\n",
    "\n",
    "a=[]\n",
    "a= score_df.mean(axis=1)\n",
    "print( \"6號學生3科平均分數\", a[5])\n",
    "t=[]\n",
    "t= (a[5]>=a)\n",
    "b= Counter(t)\n",
    "if b[True]>=5:\n",
    "    print(\"6號學生平均超過班上一半\")\n",
    "else:\n",
    "    print(\"6號學生平均沒有超過班上一半\")\n",
    "    \n",
    "\n",
    "a1= score_df.apply(lambda x : x**(0.5)*10)    \n",
    "print(\"加分後，6號學生數學成績\", a1.math_score[5],\n",
    "      \"\\n            英文成績\", a1.english_score[5],\n",
    "      \"\\n            國文成績\", a1.chinese_score[5])\n",
    "b1= a1.mean()\n",
    "print(\"加分後，班平均數學成績\", b1.math_score,\n",
    "      \"\\n           英文成績\", b1.english_score,\n",
    "      \"\\n           國文成績\", b1.chinese_score)\n",
    "\n"
   ]
  },
  {
   "cell_type": "code",
   "execution_count": null,
   "metadata": {},
   "outputs": [],
   "source": []
  },
  {
   "cell_type": "code",
   "execution_count": null,
   "metadata": {},
   "outputs": [],
   "source": []
  }
 ],
 "metadata": {
  "kernelspec": {
   "display_name": "Python 3",
   "language": "python",
   "name": "python3"
  },
  "language_info": {
   "codemirror_mode": {
    "name": "ipython",
    "version": 3
   },
   "file_extension": ".py",
   "mimetype": "text/x-python",
   "name": "python",
   "nbconvert_exporter": "python",
   "pygments_lexer": "ipython3",
   "version": "3.7.6"
  }
 },
 "nbformat": 4,
 "nbformat_minor": 4
}
