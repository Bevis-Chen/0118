{
 "cells": [
  {
   "cell_type": "code",
   "execution_count": 67,
   "metadata": {},
   "outputs": [
    {
     "name": "stdout",
     "output_type": "stream",
     "text": [
      "男孩身高平均= 165.95\n",
      "女生身高平均= 168.3\n",
      "男孩身高眾數= ModeResult(mode=array([165]), count=array([3]))\n",
      "男孩身高眾數= 165\n",
      "女生身高眾數= ModeResult(mode=array([170]), count=array([3]))\n",
      "女生身高眾數= 170\n"
     ]
    }
   ],
   "source": [
    "import matplotlib.pyplot as plt\n",
    "import numpy as np\n",
    "import pandas as pd\n",
    "from scipy import stats\n",
    "import math\n",
    "import statistics\n",
    "\n",
    "boys=[164, 176, 169, 169, 165,\n",
    "      175, 159, 151, 144, 160, \n",
    "      183, 165, 156, 170, 164,\n",
    "      173, 165, 163, 177, 171]\n",
    "girls=[169, 183, 170, 168, 182,\n",
    "       170, 173, 185, 151, 156,\n",
    "       162, 169, 162, 181, 159,\n",
    "       154, 167, 175, 170, 160]\n",
    "\n",
    "mean_boy=np.mean(boys)\n",
    "print(\"男孩身高平均=\",mean_boy)\n",
    "mean_girl= np.mean(girls)\n",
    "print(\"女生身高平均=\", mean_girl)\n",
    "\n",
    "mode_boy=stats.mode(boys,axis=None)\n",
    "print(\"男孩身高眾數=\",mode_boy)\n",
    "print(\"男孩身高眾數=\",mode_boy[0][0])\n",
    "mode_girl= stats.mode(girls,axis=None)\n",
    "print(\"女生身高眾數=\",mode_girl)\n",
    "print(\"女生身高眾數=\",mode_girl[0][0])\n",
    "print(\"#1. 比較男女身高平均數以及眾數後，女生整體比男生高\")\n",
    "print(\"#2. 平均上女生比男生高\")\n",
    "print(\"#3. 一致， 男生沒有到一定身高跟女生其實差不多\")"
   ]
  },
  {
   "cell_type": "code",
   "execution_count": null,
   "metadata": {},
   "outputs": [],
   "source": []
  }
 ],
 "metadata": {
  "kernelspec": {
   "display_name": "Python 3",
   "language": "python",
   "name": "python3"
  },
  "language_info": {
   "codemirror_mode": {
    "name": "ipython",
    "version": 3
   },
   "file_extension": ".py",
   "mimetype": "text/x-python",
   "name": "python",
   "nbconvert_exporter": "python",
   "pygments_lexer": "ipython3",
   "version": "3.7.6"
  }
 },
 "nbformat": 4,
 "nbformat_minor": 4
}
