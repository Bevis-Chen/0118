{
 "cells": [
  {
   "cell_type": "code",
   "execution_count": 16,
   "metadata": {},
   "outputs": [
    {
     "name": "stdout",
     "output_type": "stream",
     "text": [
      "全部體重平均 69.8375\n",
      "男生平均是 77.18333333333332\n",
      "女生平均是 47.8\n"
     ]
    }
   ],
   "source": [
    "import numpy as np\n",
    "\n",
    "\n",
    "name_list = ['小明','小華','小菁','小美','小張','John','Mark','Tom']\n",
    "sex_list = ['boy','boy','girl','girl','boy','boy','boy','boy']\n",
    "weight_list = [67.5,75.3,50.1,45.5,80.8,90.4,78.4,70.7]\n",
    "rank_list = [8,1,5,4,7,6,2,3]\n",
    "myopia_list = [True,True,False,False,True,True,False,False]\n",
    "\n",
    "dt= np.dtype({ \"names\":('name', 'sex', 'weight', 'rank', 'myopia'),\"formats\":(\"U10\",\"U10\",float,int,bool)})\n",
    "#[], delimiter=\",\"\n",
    "#a= np.array([name_list, sex_list, weight_list, rank_list, myopia_list], dtype=dt)\n",
    "a= np.zeros(8, dtype= dt)\n",
    "a['name']= name_list\n",
    "a['sex']= sex_list\n",
    "a['weight']= weight_list \n",
    "a['rank']= rank_list\n",
    "a['myopia']= myopia_list\n",
    "\n",
    "b= np.mean(a['weight'])\n",
    "print(\"全部體重平均\", b)\n",
    "b_boy= np.mean(a['weight'][a['sex']=='boy'])\n",
    "print(\"男生平均是\", b_boy)\n",
    "b_girl= np.mean(a['weight'][a['sex']=='girl'])\n",
    "print(\"女生平均是\", b_girl)\n",
    "\n"
   ]
  },
  {
   "cell_type": "code",
   "execution_count": null,
   "metadata": {},
   "outputs": [],
   "source": []
  }
 ],
 "metadata": {
  "kernelspec": {
   "display_name": "Python 3",
   "language": "python",
   "name": "python3"
  },
  "language_info": {
   "codemirror_mode": {
    "name": "ipython",
    "version": 3
   },
   "file_extension": ".py",
   "mimetype": "text/x-python",
   "name": "python",
   "nbconvert_exporter": "python",
   "pygments_lexer": "ipython3",
   "version": "3.7.6"
  }
 },
 "nbformat": 4,
 "nbformat_minor": 4
}
