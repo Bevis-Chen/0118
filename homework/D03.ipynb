{
 "cells": [
  {
   "cell_type": "code",
   "execution_count": 24,
   "metadata": {},
   "outputs": [
    {
     "name": "stdout",
     "output_type": "stream",
     "text": [
      "20000 微巴斯卡是 60.0 分貝\n",
      "30分貝是50分貝的 0.09999999999999999 倍\n"
     ]
    }
   ],
   "source": [
    "import numpy as np\n",
    "\n",
    "V1= 20000\n",
    "V0= 20\n",
    "G= 20*(np.log10(V1/V0))\n",
    "print(\"20000 微巴斯卡是\",G,\"分貝\" )\n",
    "\n",
    "G1=30\n",
    "G2=50\n",
    "V1= 20*(np.power(10,G1/20))  \n",
    "V2= 20*(np.power(10,G2/20))\n",
    "\n",
    "print(\"30分貝是50分貝的\",V1/V2,\"倍\")\n",
    "\n"
   ]
  }
 ],
 "metadata": {
  "kernelspec": {
   "display_name": "Python 3",
   "language": "python",
   "name": "python3"
  },
  "language_info": {
   "codemirror_mode": {
    "name": "ipython",
    "version": 3
   },
   "file_extension": ".py",
   "mimetype": "text/x-python",
   "name": "python",
   "nbconvert_exporter": "python",
   "pygments_lexer": "ipython3",
   "version": "3.7.6"
  }
 },
 "nbformat": 4,
 "nbformat_minor": 4
}
