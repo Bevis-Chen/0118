{
 "cells": [
  {
   "cell_type": "code",
   "execution_count": 31,
   "metadata": {},
   "outputs": [
    {
     "name": "stdout",
     "output_type": "stream",
     "text": [
      "      student_id     math_score     english_score     chinese_score       sex  \\\n",
      "             max min        max min           max min           max min   max   \n",
      "class                                                                           \n",
      "1              9   1         98  25            80  43            77  55  girl   \n",
      "2              8   2         70  55            77  45            89  50  girl   \n",
      "3             15  10         89  20            90  40            77  23  girl   \n",
      "\n",
      "            \n",
      "       min  \n",
      "class       \n",
      "1      boy  \n",
      "2      boy  \n",
      "3      boy  \n",
      "數學最高分: 98分,\n",
      "    最低分: 20分\n",
      "英文最高分: 90分,\n",
      "    最低分: 40分\n",
      "國文最高分: 89分,\n",
      "    最低分: 23分\n",
      "      student_id math_score english_score chinese_score\n",
      "            mean       mean          mean          mean\n",
      "class                                                  \n",
      "1            5.0  54.800000     65.800000     64.400000\n",
      "2            5.0  61.250000     64.750000     67.500000\n",
      "3           12.5  58.666667     61.166667     50.666667\n",
      "班級2是數學平均最高的\n",
      "     student_id math_score english_score chinese_score     class\n",
      "           mean       mean          mean          mean      mean\n",
      "sex                                                             \n",
      "boy    5.500000  63.833333     59.500000     55.333333  2.000000\n",
      "girl   9.666667  54.222222     66.444444     62.666667  2.111111 女生國文成績比男生多 7.3333分\n"
     ]
    }
   ],
   "source": [
    "import pandas as pd\n",
    "\n",
    "score_df = pd.DataFrame([[1,50,80,70,'boy',1],\n",
    "                         [2,60,45,50,'boy',2],\n",
    "                         [3,98,43,55,'boy',1],\n",
    "                         [4,70,69,89,'boy',2],\n",
    "                         [5,56,79,60,'girl',1],\n",
    "                         [6,60,68,55,'girl',2],\n",
    "                         [7,45,70,77,'girl',1],\n",
    "                         [8,55,77,76,'girl',2],\n",
    "                         [9,25,57,60,'girl',1],\n",
    "                         [10,88,40,43,'girl',3],\n",
    "                         [11,25,60,45,'boy',3],\n",
    "                         [12,80,60,23,'boy',3],\n",
    "                         [13,20,90,66,'girl',3],\n",
    "                         [14,50,50,50,'girl',3],\n",
    "                         [15,89,67,77,'girl',3]],columns=['student_id','math_score','english_score','chinese_score','sex','class'])\n",
    "\n",
    "a= score_df.groupby(['class']).agg(['max','min'])\n",
    "print(a)\n",
    "print(\"數學最高分: 98分,\\n    最低分: 20分\")\n",
    "print(\"英文最高分: 90分,\\n    最低分: 40分\")\n",
    "print(\"國文最高分: 89分,\\n    最低分: 23分\")\n",
    "\n",
    "b= score_df.groupby(['class']).agg(['mean'])\n",
    "print(b) \n",
    "print(\"班級2是數學平均最高的\")\n",
    "\n",
    "c= score_df.groupby(['sex']).agg(['mean'])\n",
    "print(c)\n",
    "print(\"女生國文成績比男生多 7.3333分\")\n",
    "\n"
   ]
  },
  {
   "cell_type": "code",
   "execution_count": null,
   "metadata": {},
   "outputs": [],
   "source": []
  }
 ],
 "metadata": {
  "kernelspec": {
   "display_name": "Python 3",
   "language": "python",
   "name": "python3"
  },
  "language_info": {
   "codemirror_mode": {
    "name": "ipython",
    "version": 3
   },
   "file_extension": ".py",
   "mimetype": "text/x-python",
   "name": "python",
   "nbconvert_exporter": "python",
   "pygments_lexer": "ipython3",
   "version": "3.7.6"
  }
 },
 "nbformat": 4,
 "nbformat_minor": 4
}
