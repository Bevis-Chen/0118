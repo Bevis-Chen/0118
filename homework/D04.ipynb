{
 "cells": [
  {
   "cell_type": "code",
   "execution_count": 39,
   "metadata": {},
   "outputs": [
    {
     "name": "stdout",
     "output_type": "stream",
     "text": [
      "有 3 個同學英文成績比數學高\n",
      "是, 全班同學最高分都是國文\n"
     ]
    }
   ],
   "source": [
    "import numpy as np \n",
    "\n",
    "english_score= np.array([55,89,76,65,48,70])\n",
    "math_score=    np.array([60,85,60,68,55,60])\n",
    "chinese_score= np.array([65,90,82,72,66,77])\n",
    "\n",
    "a= np.greater(english_score, math_score)\n",
    "print(\"有\",np.sum(a==True),\"個同學英文成績比數學高\")\n",
    "    \n",
    "\n",
    "if np.all(np.greater(chinese_score, [english_score, math_score]))==True:\n",
    "    print(\"是, 全班同學最高分都是國文\")\n"
   ]
  },
  {
   "cell_type": "code",
   "execution_count": null,
   "metadata": {},
   "outputs": [],
   "source": []
  }
 ],
 "metadata": {
  "kernelspec": {
   "display_name": "Python 3",
   "language": "python",
   "name": "python3"
  },
  "language_info": {
   "codemirror_mode": {
    "name": "ipython",
    "version": 3
   },
   "file_extension": ".py",
   "mimetype": "text/x-python",
   "name": "python",
   "nbconvert_exporter": "python",
   "pygments_lexer": "ipython3",
   "version": "3.7.6"
  }
 },
 "nbformat": 4,
 "nbformat_minor": 4
}
