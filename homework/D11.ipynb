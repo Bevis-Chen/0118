{
 "cells": [
  {
   "cell_type": "code",
   "execution_count": 22,
   "metadata": {},
   "outputs": [
    {
     "name": "stdout",
     "output_type": "stream",
     "text": [
      "      Sex Profession  size\n",
      "0    male    teacher     1\n",
      "1    male   engineer     1\n",
      "2  female       None     0\n",
      "3  female   engineer     0\n",
      "      Sex Profession  size  Sex_female  Sex_male\n",
      "0    male    teacher     1           0         1\n",
      "1    male   engineer     1           0         1\n",
      "2  female       None     0           1         0\n",
      "3  female   engineer     0           1         0\n"
     ]
    }
   ],
   "source": [
    "import pandas as pd \n",
    "from sklearn.preprocessing import LabelEncoder\n",
    "q_df = pd.DataFrame([['male', 'teacher'],\n",
    "                     ['male', 'engineer'],\n",
    "                     ['female', None],\n",
    "                     ['female', 'engineer']],\n",
    "                    columns=['Sex','Profession'])\n",
    "#print(q_df.fillna(\"others\"))\n",
    "\n",
    "#更進一步將字串做編碼\n",
    "q_df['size'] = LabelEncoder().fit_transform(q_df['Sex'].values)\n",
    "print(q_df)\n",
    "pf = pd.get_dummies(q_df[['Sex']])\n",
    "q_df = pd.concat([q_df, pf], axis=1)\n",
    "print(q_df)\n",
    "\n",
    "#使用LabelEncoder()比較好， 編碼後結果不會有不必要的元素\n"
   ]
  },
  {
   "cell_type": "code",
   "execution_count": null,
   "metadata": {},
   "outputs": [],
   "source": []
  }
 ],
 "metadata": {
  "kernelspec": {
   "display_name": "Python 3",
   "language": "python",
   "name": "python3"
  },
  "language_info": {
   "codemirror_mode": {
    "name": "ipython",
    "version": 3
   },
   "file_extension": ".py",
   "mimetype": "text/x-python",
   "name": "python",
   "nbconvert_exporter": "python",
   "pygments_lexer": "ipython3",
   "version": "3.7.6"
  }
 },
 "nbformat": 4,
 "nbformat_minor": 4
}
