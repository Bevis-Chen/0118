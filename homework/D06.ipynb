{
 "cells": [
  {
   "cell_type": "code",
   "execution_count": 44,
   "metadata": {},
   "outputs": [
    {
     "name": "stdout",
     "output_type": "stream",
     "text": [
      "[ 0  1  2  3  4  5  6  7  8  9 10 11 12 13 14 15 16 17 18 19 20 21 22 23\n",
      " 24 25 26 27 28 29]\n",
      "[2 3 5]\n",
      "成功讀取\n",
      "[ 0  1  2  3  4  5  6  7  8  9 10 11 12 13 14 15 16 17 18 19 20 21 22 23\n",
      " 24 25 26 27 28 29]\n",
      "[2 3 5]\n",
      "[0 1 2 3 4 5 6 7 8 9]\n",
      "[1 2 3]\n",
      "[4.56248420e-01 5.41646880e-01 3.77180401e-01 8.04260599e-01\n",
      " 2.89279193e-01 2.16416111e-02 4.57347946e-01 4.36980707e-01\n",
      " 5.41068344e-04 1.73563154e-01]\n"
     ]
    }
   ],
   "source": [
    "import numpy as np\n",
    "\n",
    "array1 = np.array(range(30))\n",
    "array2 = np.array([2,3,5])\n",
    "#1.\n",
    "with open(\"D06.npz\", \"wb\") as f:\n",
    "    np.savez(f, array1, array2)\n",
    "nnpzfile= np.load(\"D06.npz\")\n",
    "nnpzfile.files\n",
    "print(nnpzfile[\"arr_0\"])\n",
    "print(nnpzfile[\"arr_1\"])  \n",
    "print(\"成功讀取\")\n",
    "#2.\n",
    "npzfile= np.load(\"multi_array.npz\")\n",
    "npzfile.files\n",
    "with open(\"D06.npz\", \"wb\") as f:\n",
    "    np.savez(f, array1,array2,\n",
    "             npzfile[\"array1\"],\n",
    "            npzfile[\"array2\"],\n",
    "            npzfile[\"array3\"])\n",
    "new_npzfile= np.load(\"D06.npz\")\n",
    "new_npzfile.files\n",
    "print(new_npzfile[\"arr_0\"]) \n",
    "print(new_npzfile[\"arr_1\"]) \n",
    "print(new_npzfile[\"arr_2\"]) \n",
    "print(new_npzfile[\"arr_3\"]) \n",
    "print(new_npzfile[\"arr_4\"]) "
   ]
  },
  {
   "cell_type": "code",
   "execution_count": null,
   "metadata": {},
   "outputs": [],
   "source": []
  }
 ],
 "metadata": {
  "kernelspec": {
   "display_name": "Python 3",
   "language": "python",
   "name": "python3"
  },
  "language_info": {
   "codemirror_mode": {
    "name": "ipython",
    "version": 3
   },
   "file_extension": ".py",
   "mimetype": "text/x-python",
   "name": "python",
   "nbconvert_exporter": "python",
   "pygments_lexer": "ipython3",
   "version": "3.7.6"
  }
 },
 "nbformat": 4,
 "nbformat_minor": 4
}
