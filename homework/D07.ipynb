{
 "cells": [
  {
   "cell_type": "code",
   "execution_count": 29,
   "metadata": {},
   "outputs": [
    {
     "name": "stdout",
     "output_type": "stream",
     "text": [
      "[[1. 0.]\n",
      " [0. 1.]]\n",
      "對角線元素為1, 是單位矩陣!\n",
      "特徵值是 [13.  2.]\n",
      "特徵向量是 [[ 0.93632918 -0.70710678]\n",
      " [ 0.35112344  0.70710678]]\n",
      "[[-0.91663818 -0.39971796]\n",
      " [-0.39971796  0.91663818]]\n",
      "[13.94721714  1.86417116]\n",
      "[[-0.74319741 -0.6690722 ]\n",
      " [-0.6690722   0.74319741]]\n"
     ]
    }
   ],
   "source": [
    "import numpy as np\n",
    "\n",
    "array1= np.array([[10, 8], [3, 5]])\n",
    "#1.\n",
    "inv_array1= np.linalg.inv(array1)\n",
    "np.dot(inv_array1, array1)\n",
    "print(dot)\n",
    "print(\"對角線元素為1, 是單位矩陣!\")\n",
    "#2.\n",
    "w, v= np.linalg.eig(array1)\n",
    "print(\"特徵值是\", w)\n",
    "print(\"特徵向量是\", v)\n",
    "#3.\n",
    "u, s, vh= np.linalg.svd(array1)\n",
    "print(\"SVD分解\")\n",
    "print(u)\n",
    "print(s)\n",
    "print(vh)"
   ]
  },
  {
   "cell_type": "code",
   "execution_count": null,
   "metadata": {},
   "outputs": [],
   "source": []
  }
 ],
 "metadata": {
  "kernelspec": {
   "display_name": "Python 3",
   "language": "python",
   "name": "python3"
  },
  "language_info": {
   "codemirror_mode": {
    "name": "ipython",
    "version": 3
   },
   "file_extension": ".py",
   "mimetype": "text/x-python",
   "name": "python",
   "nbconvert_exporter": "python",
   "pygments_lexer": "ipython3",
   "version": "3.7.6"
  }
 },
 "nbformat": 4,
 "nbformat_minor": 4
}
