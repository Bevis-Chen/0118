{
 "cells": [
  {
   "cell_type": "code",
   "execution_count": 7,
   "metadata": {},
   "outputs": [
    {
     "name": "stdout",
     "output_type": "stream",
     "text": [
      "#1. 有限個物件中抽出n個物件，成功抽出指定種類的物件的個數，這就是大樂透阿。所以大樂透是屬於超幾何分配\n",
      "#2. 中獎機率為 7.151123842018523e-08\n",
      "#3. 人跟電腦一樣高\n"
     ]
    }
   ],
   "source": [
    "import matplotlib.pyplot as plt\n",
    "import numpy as np\n",
    "import pandas as pd\n",
    "from scipy import stats\n",
    "import math\n",
    "import statistics\n",
    "print(\"#1. 有限個物件中抽出n個物件，成功抽出指定種類的物件的個數，這就是大樂透阿。所以大樂透是屬於超幾何分配\")\n",
    "\n",
    "N=49\n",
    "K=6\n",
    "\n",
    "probs= stats.hypergeom.pmf(6, 49, 6,6)\n",
    "print(\"#2. 中獎機率為\", probs)\n",
    "print(\"#3. 人跟電腦一樣高\")\n",
    "\n",
    "\n",
    "\n"
   ]
  },
  {
   "cell_type": "code",
   "execution_count": null,
   "metadata": {},
   "outputs": [],
   "source": []
  }
 ],
 "metadata": {
  "kernelspec": {
   "display_name": "Python 3",
   "language": "python",
   "name": "python3"
  },
  "language_info": {
   "codemirror_mode": {
    "name": "ipython",
    "version": 3
   },
   "file_extension": ".py",
   "mimetype": "text/x-python",
   "name": "python",
   "nbconvert_exporter": "python",
   "pygments_lexer": "ipython3",
   "version": "3.7.6"
  }
 },
 "nbformat": 4,
 "nbformat_minor": 4
}
